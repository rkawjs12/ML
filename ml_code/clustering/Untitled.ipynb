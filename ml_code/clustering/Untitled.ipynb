{
 "cells": [
  {
   "cell_type": "markdown",
   "metadata": {},
   "source": [
    "# Clustering_excercise 연습\n"
   ]
  },
  {
   "cell_type": "markdown",
   "metadata": {},
   "source": [
    "# Clustering"
   ]
  },
  {
   "cell_type": "code",
   "execution_count": 3,
   "metadata": {},
   "outputs": [],
   "source": [
    "from IPython.display import Image \n",
    "%matplotlib inline\n"
   ]
  },
  {
   "cell_type": "markdown",
   "metadata": {},
   "source": [
    "# Grouping objects by similarity using k-means "
   ]
  },
  {
   "cell_type": "markdown",
   "metadata": {},
   "source": [
    "K-means clustering using scikit-learn"
   ]
  },
  {
   "cell_type": "code",
   "execution_count": 4,
   "metadata": {},
   "outputs": [],
   "source": [
    " from sklearn.datasets import make_blobs\n"
   ]
  },
  {
   "cell_type": "code",
   "execution_count": 5,
   "metadata": {},
   "outputs": [],
   "source": [
    "X, y = make_blobs(n_samples=150, n_features=2, centers=3, cluster_std=0.5, shuffle=True, random_state=0)\n",
    "#n_features=2 변수 2개, centers=3 그룹의 갯수 3개, cluster_std=0.5 는 산포도, shuffle=True 한번 섞어준다.\n",
    "#위에 있는 함수는 n_samples=150개의 데이터를 만든다."
   ]
  },
  {
   "cell_type": "code",
   "execution_count": 6,
   "metadata": {},
   "outputs": [
    {
     "name": "stdout",
     "output_type": "stream",
     "text": [
      "[[ 2.60509732  1.22529553]\n",
      " [ 0.5323772   3.31338909]\n",
      " [ 0.802314    4.38196181]\n",
      " [ 0.5285368   4.49723858]\n",
      " [ 2.61858548  0.35769791]\n",
      " [ 1.59141542  4.90497725]\n",
      " [ 1.74265969  5.03846671]\n",
      " [ 2.37533328  0.08918564]\n",
      " [-2.12133364  2.66447408]\n",
      " [ 1.72039618  5.25173192]\n",
      " [ 3.1368855   1.56592763]\n",
      " [-0.37494566  2.38787435]\n",
      " [-1.84562253  2.71924635]\n",
      " [ 0.72144399  4.08475018]\n",
      " [ 0.16117091  4.53517846]\n",
      " [-1.99912714  2.71285741]\n",
      " [-1.47804153  3.2093591 ]\n",
      " [ 1.8706766   0.77797407]\n",
      " [-1.5933443   2.76898682]\n",
      " [ 2.03562611  0.31361691]\n",
      " [ 0.64003985  4.12401075]\n",
      " [ 2.4411628   1.30941574]\n",
      " [ 1.13280393  3.87673946]\n",
      " [ 1.04829186  5.03092408]\n",
      " [-1.26637157  2.62998828]\n",
      " [ 2.31690585  0.81189049]\n",
      " [ 2.36230721  1.358767  ]\n",
      " [ 1.2091013   3.53566548]\n",
      " [-2.54224625  3.95012869]\n",
      " [ 1.4815332   0.67875364]\n",
      " [-1.59487886  3.48632794]\n",
      " [-1.82556205  2.7989214 ]\n",
      " [-1.13374003  2.68467271]\n",
      " [-1.758702    3.158623  ]\n",
      " [ 0.3498724   4.69253251]\n",
      " [ 1.68548602  1.66917096]\n",
      " [ 2.989047    1.35068599]\n",
      " [ 1.73734448  1.23588031]\n",
      " [ 0.65910903  4.12241674]\n",
      " [ 1.15445328  4.65707391]\n",
      " [-1.32738084  1.53158588]\n",
      " [-1.6814105   2.07988036]\n",
      " [ 0.34102758  4.78848568]\n",
      " [ 1.87827057  0.21018801]\n",
      " [ 2.13860427  1.21517938]\n",
      " [ 2.48368283  0.57215086]\n",
      " [-1.18113464  3.26525683]\n",
      " [ 2.11114739  3.57660449]\n",
      " [-1.19371247  2.68752237]\n",
      " [ 1.45131429  4.22810872]\n",
      " [ 1.83769075  1.82229552]\n",
      " [ 0.44089377  4.83101319]\n",
      " [ 1.08040757  4.79210685]\n",
      " [ 1.84845803  0.52393625]\n",
      " [ 2.3914149   1.10139458]\n",
      " [-1.44865074  3.03397278]\n",
      " [ 0.72086751  3.71347124]\n",
      " [ 3.01673853  1.63792106]\n",
      " [-1.18199493  3.56880538]\n",
      " [ 1.34081536  4.36827878]\n",
      " [-2.31837321  3.22307195]\n",
      " [-0.54894786  3.11292892]\n",
      " [-1.6823471   2.96658234]\n",
      " [-1.53541422  3.10745813]\n",
      " [ 1.06498315  4.10289686]\n",
      " [-0.39724954  2.89675369]\n",
      " [ 1.03972612  4.50478201]\n",
      " [ 1.62465468  1.85269614]\n",
      " [-0.30022483  4.63059663]\n",
      " [ 0.12313498  5.27917503]\n",
      " [ 1.54597042  3.68637442]\n",
      " [ 1.44254976  1.31984515]\n",
      " [ 2.52889351  0.82015861]\n",
      " [ 0.38970838  5.27559792]\n",
      " [ 1.5381461   1.23846092]\n",
      " [ 0.82049381  4.33187   ]\n",
      " [ 1.56565986  4.21382491]\n",
      " [-1.93358614  2.1846701 ]\n",
      " [-1.38373217  3.22230418]\n",
      " [ 0.96217896  4.51795326]\n",
      " [ 1.71810119  0.91357894]\n",
      " [ 1.65356269  0.55288877]\n",
      " [ 0.4519936   3.59377836]\n",
      " [ 1.19820169  4.47062449]\n",
      " [ 2.20438661  1.56085661]\n",
      " [ 3.24683991  1.3699034 ]\n",
      " [ 2.51569693  1.05702749]\n",
      " [-1.79833475  3.12590728]\n",
      " [-2.0495307   3.52345491]\n",
      " [ 2.36788325  0.09663483]\n",
      " [ 2.24348029  0.34796326]\n",
      " [ 0.99914934  4.2101954 ]\n",
      " [ 1.30963873  1.11735951]\n",
      " [ 0.77468161  4.91500986]\n",
      " [ 1.70798359  0.82284639]\n",
      " [ 1.91784543  3.6299078 ]\n",
      " [-2.00487651  2.74489137]\n",
      " [-2.10499523  3.30848131]\n",
      " [ 1.39731382  0.66687136]\n",
      " [ 2.02114672  1.75433502]\n",
      " [ 1.67030948  1.16728826]\n",
      " [ 2.52997792  0.94143928]\n",
      " [-2.18016744  3.7469476 ]\n",
      " [ 2.00604126  0.56592452]\n",
      " [ 1.50307585  0.9237462 ]\n",
      " [ 1.05374379  4.49286859]\n",
      " [-1.72662853  3.10291021]\n",
      " [ 1.72330962  4.2012082 ]\n",
      " [ 0.92466065  4.50908658]\n",
      " [ 0.39369516  4.75420057]\n",
      " [-1.31377465  3.25633628]\n",
      " [ 0.78260667  4.15263595]\n",
      " [ 1.82750127  0.90640324]\n",
      " [-1.2649585   2.9620933 ]\n",
      " [ 0.98152009  5.19672257]\n",
      " [-2.49504392  3.01227156]\n",
      " [ 1.00952869  4.45502328]\n",
      " [ 1.40848818  3.93270482]\n",
      " [-1.28003312  2.85983029]\n",
      " [-1.82506103  2.89159861]\n",
      " [ 0.5408715   4.0143625 ]\n",
      " [ 2.64928242  1.05613497]\n",
      " [ 0.5226209   4.32976003]\n",
      " [ 0.16932115  4.19741719]\n",
      " [ 1.8062513   1.86242969]\n",
      " [ 1.92126584  1.29889186]\n",
      " [-1.53906708  2.54886681]\n",
      " [ 1.68289011  0.48444439]\n",
      " [-2.29730252  2.94951326]\n",
      " [-1.45592743  2.75821805]\n",
      " [-1.38694171  2.86880707]\n",
      " [-1.07181456  3.07649137]\n",
      " [ 1.40883907  1.03118909]\n",
      " [-1.58598604  2.57779316]\n",
      " [-1.58217434  3.42796862]\n",
      " [-0.77966174  1.88288975]\n",
      " [ 0.56969694  3.44064603]\n",
      " [-1.8531083   2.72240557]\n",
      " [ 1.59885641  1.4561718 ]\n",
      " [-1.84094779  2.6773687 ]\n",
      " [ 1.35678894  4.36462484]\n",
      " [ 1.1774409   3.96138228]\n",
      " [ 1.73345832 -0.21403792]\n",
      " [ 2.34356293  0.79351428]\n",
      " [-0.95073823  3.45769156]\n",
      " [-2.23893447  2.67122232]\n",
      " [-1.87292894  3.68607079]\n",
      " [-1.8897027   2.22620028]\n",
      " [ 2.25327088  0.35113291]\n",
      " [ 1.55515985  0.12527811]] [1 0 0 0 1 0 0 1 2 0 1 2 2 0 0 2 2 1 2 1 0 1 0 0 2 1 1 0 2 1 2 2 2 2 0 1 1\n",
      " 1 0 0 2 2 0 1 1 1 2 0 2 0 1 0 0 1 1 2 0 1 2 0 2 2 2 2 0 2 0 1 0 0 0 1 1 0\n",
      " 1 0 0 2 2 0 1 1 0 0 1 1 1 2 2 1 1 0 1 0 1 0 2 2 1 1 1 1 2 1 1 0 2 0 0 0 2\n",
      " 0 1 2 0 2 0 0 2 2 0 1 0 0 1 1 2 1 2 2 2 2 1 2 2 2 0 2 1 2 0 0 1 1 2 2 2 2\n",
      " 1 1]\n"
     ]
    }
   ],
   "source": [
    "print(X,y)\n"
   ]
  },
  {
   "cell_type": "code",
   "execution_count": 7,
   "metadata": {},
   "outputs": [],
   "source": [
    "import matplotlib.pyplot as plt\n"
   ]
  },
  {
   "cell_type": "code",
   "execution_count": 9,
   "metadata": {},
   "outputs": [
    {
     "data": {
      "image/png": "[encoded data removed]",
      "text/plain": [
       "<Figure size 432x288 with 1 Axes>"
      ]
     },
     "metadata": {
      "needs_background": "light"
     },
     "output_type": "display_data"
    }
   ],
   "source": [
    "plt.scatter(X[:, 0], X[:, 1], c='white', marker='o', edgecolor='black', s=50) \n",
    "plt.grid() \n",
    "plt.tight_layout() \n",
    "#plt.savefig('images/11_01.png', dpi=300) \n",
    "plt.show()"
   ]
  },
  {
   "cell_type": "code",
   "execution_count": 11,
   "metadata": {},
   "outputs": [],
   "source": [
    "from sklearn.cluster import KMeans\n",
    "km = KMeans(n_clusters=3, init='random', max_iter = 300, random_state=0)\n",
    "y_km = km.fit_predict(X)\n",
    "#km.fit_predict(X) 이 함수는 fit과 predict를 동시에 하는 함수이다.\n"
   ]
  },
  {
   "cell_type": "code",
   "execution_count": 12,
   "metadata": {},
   "outputs": [
    {
     "name": "stdout",
     "output_type": "stream",
     "text": [
      "[1 0 0 0 1 0 0 1 2 0 1 2 2 0 0 2 2 1 2 1 0 1 0 0 2 1 1 0 2 1 2 2 2 2 0 1 1\n",
      " 1 0 0 2 2 0 1 1 1 2 0 2 0 1 0 0 1 1 2 0 1 2 0 2 2 2 2 0 2 0 1 0 0 0 1 1 0\n",
      " 1 0 0 2 2 0 1 1 0 0 1 1 1 2 2 1 1 0 1 0 1 0 2 2 1 1 1 1 2 1 1 0 2 0 0 0 2\n",
      " 0 1 2 0 2 0 0 2 2 0 1 0 0 1 1 2 1 2 2 2 2 1 2 2 2 0 2 1 2 0 0 1 1 2 2 2 2\n",
      " 1 1]\n"
     ]
    }
   ],
   "source": [
    "print(y_km)\n"
   ]
  },
  {
   "cell_type": "code",
   "execution_count": 13,
   "metadata": {},
   "outputs": [
    {
     "data": {
      "text/plain": [
       "array([ 0.5323772 ,  0.802314  ,  0.5285368 ,  1.59141542,  1.74265969,\n",
       "        1.72039618,  0.72144399,  0.16117091,  0.64003985,  1.13280393,\n",
       "        1.04829186,  1.2091013 ,  0.3498724 ,  0.65910903,  1.15445328,\n",
       "        0.34102758,  2.11114739,  1.45131429,  0.44089377,  1.08040757,\n",
       "        0.72086751,  1.34081536,  1.06498315,  1.03972612, -0.30022483,\n",
       "        0.12313498,  1.54597042,  0.38970838,  0.82049381,  1.56565986,\n",
       "        0.96217896,  0.4519936 ,  1.19820169,  0.99914934,  0.77468161,\n",
       "        1.91784543,  1.05374379,  1.72330962,  0.92466065,  0.39369516,\n",
       "        0.78260667,  0.98152009,  1.00952869,  1.40848818,  0.5408715 ,\n",
       "        0.5226209 ,  0.16932115,  0.56969694,  1.35678894,  1.1774409 ])"
      ]
     },
     "execution_count": 13,
     "metadata": {},
     "output_type": "execute_result"
    }
   ],
   "source": [
    "X[y_km == 0, 0]\n",
    "# X[y_km == 0, 0]에서 y_km == 0는 참과 거짓으로 나오는데, 참인 것만 해당하는 것을 프린트한다.\n"
   ]
  },
  {
   "cell_type": "code",
   "execution_count": 14,
   "metadata": {},
   "outputs": [
    {
     "data": {
      "text/plain": [
       "array([2.60509732, 2.61858548, 2.37533328, 3.1368855 , 1.8706766 ,\n",
       "       2.03562611, 2.4411628 , 2.31690585, 2.36230721, 1.4815332 ,\n",
       "       1.68548602, 2.989047  , 1.73734448, 1.87827057, 2.13860427,\n",
       "       2.48368283, 1.83769075, 1.84845803, 2.3914149 , 3.01673853,\n",
       "       1.62465468, 1.44254976, 2.52889351, 1.5381461 , 1.71810119,\n",
       "       1.65356269, 2.20438661, 3.24683991, 2.51569693, 2.36788325,\n",
       "       2.24348029, 1.30963873, 1.70798359, 1.39731382, 2.02114672,\n",
       "       1.67030948, 2.52997792, 2.00604126, 1.50307585, 1.82750127,\n",
       "       2.64928242, 1.8062513 , 1.92126584, 1.68289011, 1.40883907,\n",
       "       1.59885641, 1.73345832, 2.34356293, 2.25327088, 1.55515985])"
      ]
     },
     "execution_count": 14,
     "metadata": {},
     "output_type": "execute_result"
    }
   ],
   "source": [
    "X[y_km == 1, 0]\n"
   ]
  },
  {
   "cell_type": "code",
   "execution_count": 15,
   "metadata": {
    "scrolled": true
   },
   "outputs": [
    {
     "name": "stdout",
     "output_type": "stream",
     "text": [
      "[[ 0.9329651   4.35420712]\n",
      " [ 2.06521743  0.96137409]\n",
      " [-1.5947298   2.92236966]]\n"
     ]
    }
   ],
   "source": [
    " print(km.cluster_centers_)\n",
    "#cluster_centers_는 군집화된 곳의 중심점을 나타내는 것이다."
   ]
  },
  {
   "cell_type": "code",
   "execution_count": 17,
   "metadata": {
    "scrolled": false
   },
   "outputs": [
    {
     "data": {
      "image/png": "[encoded data removed]",
      "text/plain": [
       "<Figure size 432x288 with 1 Axes>"
      ]
     },
     "metadata": {
      "needs_background": "light"
     },
     "output_type": "display_data"
    }
   ],
   "source": [
    "plt.scatter(X[y_km == 0, 0], X[y_km == 0, 1], s=50, c='lightgreen', marker='s', edgecolor='black', label='cluster 1') \n",
    "plt.scatter(X[y_km == 1, 0], X[y_km == 1, 1], s=50, c='orange', marker='o', edgecolor='black', label='cluster 2') \n",
    "plt.scatter(X[y_km == 2, 0], X[y_km == 2, 1], s=50, c='lightblue', marker='v', edgecolor='black', label='cluster 3') \n",
    "plt.scatter(km.cluster_centers_[:, 0], km.cluster_centers_[:, 1], s=250, marker='*', c='red', edgecolor='black', label='centroids') \n",
    "plt.legend(scatterpoints=1) \n",
    "plt.grid() \n",
    "plt.tight_layout() #plt.savefig('images/11_02.png', dpi=300) \n",
    "plt.show()\n"
   ]
  },
  {
   "cell_type": "markdown",
   "metadata": {},
   "source": [
    "# Using the elbow method to ﬁnd the optimal number of clusters"
   ]
  },
  {
   "cell_type": "code",
   "execution_count": 18,
   "metadata": {},
   "outputs": [
    {
     "name": "stdout",
     "output_type": "stream",
     "text": [
      "Distortion: 72.48\n"
     ]
    }
   ],
   "source": [
    " print('Distortion: %.2f' % km.inertia_)\n"
   ]
  },
  {
   "cell_type": "code",
   "execution_count": 19,
   "metadata": {},
   "outputs": [],
   "source": [
    "distortions = []\n"
   ]
  },
  {
   "cell_type": "code",
   "execution_count": 23,
   "metadata": {},
   "outputs": [
    {
     "data": {
      "image/png": "[encoded data removed]",
      "text/plain": [
       "<Figure size 432x288 with 1 Axes>"
      ]
     },
     "metadata": {
      "needs_background": "light"
     },
     "output_type": "display_data"
    }
   ],
   "source": [
    "for i in range(1, 11): \n",
    "    km = KMeans(n_clusters=i, init='random', random_state=0) \n",
    "    km.fit(X) \n",
    "    distortions.append(km.inertia_) \n",
    "plt.plot(range(1, 11), distortions, marker='o') \n",
    "plt.xlabel('Number of clusters') \n",
    "plt.ylabel('Distortion') \n",
    "plt.tight_layout() \n",
    "#plt.savefig('images/11_03.png', dpi=300) \n",
    "plt.show()"
   ]
  },
  {
   "cell_type": "code",
   "execution_count": 24,
   "metadata": {},
   "outputs": [],
   "source": [
    " from sklearn.cluster import KMeans\n",
    "km = KMeans(n_clusters=3, init='k-means++', max_iter = 300, random_state=0)\n",
    "y_km = km.fit_predict(X) "
   ]
  },
  {
   "cell_type": "code",
   "execution_count": 28,
   "metadata": {},
   "outputs": [
    {
     "data": {
      "image/png": "[encoded data removed]",
      "text/plain": [
       "<Figure size 432x288 with 1 Axes>"
      ]
     },
     "metadata": {
      "needs_background": "light"
     },
     "output_type": "display_data"
    }
   ],
   "source": [
    "plt.scatter(X[y_km == 0, 0], X[y_km == 0, 1], s=50, c='lightgreen', marker='s', edgecolor='black', label='cluster 1') \n",
    "plt.scatter(X[y_km == 1, 0], X[y_km == 1, 1], s=50, c='orange', marker='o', edgecolor='black', label='cluster 2') \n",
    "plt.scatter(X[y_km == 2, 0], X[y_km == 2, 1], s=50, c='lightblue', marker='v', edgecolor='black', label='cluster 3') \n",
    "plt.scatter(km.cluster_centers_[:, 0], km.cluster_centers_[:, 1], s=250, marker='*', c='red', edgecolor='black', label='centroids') \n",
    "plt.legend(scatterpoints=1) \n",
    "plt.grid() \n",
    "plt.tight_layout() \n",
    "#plt.savefig('images/11_02.png', dpi=300) \n",
    "plt.show() "
   ]
  },
  {
   "cell_type": "code",
   "execution_count": 29,
   "metadata": {},
   "outputs": [
    {
     "data": {
      "image/png": "[encoded data removed]",
      "text/plain": [
       "<Figure size 432x288 with 1 Axes>"
      ]
     },
     "metadata": {
      "needs_background": "light"
     },
     "output_type": "display_data"
    }
   ],
   "source": [
    "distortions = [] \n",
    "for i in range(1, 11):\n",
    "    km = KMeans(n_clusters=i, init='k-means++', random_state=0) \n",
    "    km.fit(X) \n",
    "    distortions.append(km.inertia_) \n",
    "plt.plot(range(1, 11), distortions, marker='o') \n",
    "plt.xlabel('Number of clusters') \n",
    "plt.ylabel('Distortion') \n",
    "plt.tight_layout() \n",
    "#plt.savefig('images/11_03.png', dpi=300) \n",
    "plt.show()\n"
   ]
  },
  {
   "cell_type": "markdown",
   "metadata": {},
   "source": [
    "# silhouette "
   ]
  },
  {
   "cell_type": "code",
   "execution_count": null,
   "metadata": {},
   "outputs": [],
   "source": [
    "#군집 내 샘플들이 얼마나 결합력 있게 그룹핑이 되었는지\n",
    "#a-샘플의 군집 내의 모든 점들과의 평균거리, 군집내 응집력\n",
    "#b-샘플과 가장 가까운 군집의 모든 샘플들과의 평균거리, 군집 분리력\n",
    "#silhouette = (b-a)/max(b,a)\n",
    "#silhouette = (b-a)/max(b,a)의 값이 0에 가까울 수 록 분류가 잘됬다."
   ]
  },
  {
   "cell_type": "code",
   "execution_count": null,
   "metadata": {},
   "outputs": [],
   "source": [
    "import numpy as np \n",
    "from matplotlib import cm \n",
    "from sklearn.metrics import silhouette_samples\n",
    "km = KMeans(n_clusters=3, init='k-means++', random_state=0) \n",
    "y_km = km.fit_predict(X) \n",
    "print(X[:5]) \n",
    "print(y_km[:5])\n",
    "cluster_labels = np.unique(y_km) \n",
    "print(cluster_labels) \n",
    "n_clusters = cluster_labels.shape[0] \n",
    "print(n_clusters) \n",
    "silhouette_vals = silhouette_samples(X, y_km, metric='euclidean') \n",
    "print(silhouette_vals[:5]) \n",
    "print(len(silhouette_vals))\n",
    "y_ax_lower, y_ax_upper = 0, 0 \n",
    "yticks = []"
   ]
  },
  {
   "cell_type": "code",
   "execution_count": 33,
   "metadata": {},
   "outputs": [
    {
     "data": {
      "text/plain": [
       "0.7143417887288687"
      ]
     },
     "execution_count": 33,
     "metadata": {},
     "output_type": "execute_result"
    }
   ],
   "source": [
    "np.mean(silhouette_samples(X, y_km, metric='euclidean'))\n"
   ]
  },
  {
   "cell_type": "code",
   "execution_count": 34,
   "metadata": {},
   "outputs": [
    {
     "data": {
      "text/plain": [
       "[<matplotlib.lines.Line2D at 0x2ac2630ac50>]"
      ]
     },
     "execution_count": 34,
     "metadata": {},
     "output_type": "execute_result"
    },
    {
     "data": {
      "image/png": "[encoded data removed]",
      "text/plain": [
       "<Figure size 432x288 with 1 Axes>"
      ]
     },
     "metadata": {
      "needs_background": "light"
     },
     "output_type": "display_data"
    }
   ],
   "source": [
    "plt.plot(range(len(silhouette_vals)), sorted(silhouette_vals))\n"
   ]
  },
  {
   "cell_type": "code",
   "execution_count": 38,
   "metadata": {},
   "outputs": [
    {
     "ename": "ValueError",
     "evalue": "shape mismatch: objects cannot be broadcast to a single shape",
     "output_type": "error",
     "traceback": [
      "\u001b[1;31m---------------------------------------------------------------------------\u001b[0m",
      "\u001b[1;31mValueError\u001b[0m                                Traceback (most recent call last)",
      "\u001b[1;32m<ipython-input-38-78434e68b6d5>\u001b[0m in \u001b[0;36m<module>\u001b[1;34m\u001b[0m\n\u001b[0;32m      5\u001b[0m     \u001b[0my_ax_upper\u001b[0m \u001b[1;33m+=\u001b[0m \u001b[0mlen\u001b[0m\u001b[1;33m(\u001b[0m\u001b[0mc_silhouette_vals\u001b[0m\u001b[1;33m)\u001b[0m\u001b[1;33m\u001b[0m\u001b[1;33m\u001b[0m\u001b[0m\n\u001b[0;32m      6\u001b[0m \u001b[1;31m# color = cm.jet(float(i) / n_clusters)\u001b[0m\u001b[1;33m\u001b[0m\u001b[1;33m\u001b[0m\u001b[1;33m\u001b[0m\u001b[0m\n\u001b[1;32m----> 7\u001b[1;33m     \u001b[0mplt\u001b[0m\u001b[1;33m.\u001b[0m\u001b[0mbarh\u001b[0m\u001b[1;33m(\u001b[0m\u001b[0mrange\u001b[0m\u001b[1;33m(\u001b[0m\u001b[0my_ax_lower\u001b[0m\u001b[1;33m,\u001b[0m \u001b[0my_ax_upper\u001b[0m\u001b[1;33m)\u001b[0m\u001b[1;33m,\u001b[0m \u001b[0mc_silhouette_vals\u001b[0m\u001b[1;33m,\u001b[0m \u001b[0mheight\u001b[0m\u001b[1;33m=\u001b[0m\u001b[1;36m1.0\u001b[0m\u001b[1;33m,\u001b[0m \u001b[0medgecolor\u001b[0m\u001b[1;33m=\u001b[0m\u001b[1;34m'none'\u001b[0m\u001b[1;33m,\u001b[0m \u001b[0mcolor\u001b[0m\u001b[1;33m=\u001b[0m\u001b[0mclist\u001b[0m\u001b[1;33m[\u001b[0m\u001b[0mi\u001b[0m\u001b[1;33m]\u001b[0m\u001b[1;33m)\u001b[0m\u001b[1;33m\u001b[0m\u001b[1;33m\u001b[0m\u001b[0m\n\u001b[0m\u001b[0;32m      8\u001b[0m     \u001b[0myticks\u001b[0m\u001b[1;33m.\u001b[0m\u001b[0mappend\u001b[0m\u001b[1;33m(\u001b[0m\u001b[1;33m(\u001b[0m\u001b[0my_ax_lower\u001b[0m \u001b[1;33m+\u001b[0m \u001b[0my_ax_upper\u001b[0m\u001b[1;33m)\u001b[0m \u001b[1;33m/\u001b[0m \u001b[1;36m2.\u001b[0m\u001b[1;33m)\u001b[0m\u001b[1;33m\u001b[0m\u001b[1;33m\u001b[0m\u001b[0m\n\u001b[0;32m      9\u001b[0m     \u001b[0my_ax_lower\u001b[0m \u001b[1;33m+=\u001b[0m \u001b[0mlen\u001b[0m\u001b[1;33m(\u001b[0m\u001b[0mc_silhouette_vals\u001b[0m\u001b[1;33m)\u001b[0m\u001b[1;33m\u001b[0m\u001b[1;33m\u001b[0m\u001b[0m\n",
      "\u001b[1;32m~\\Anaconda3\\lib\\site-packages\\matplotlib\\pyplot.py\u001b[0m in \u001b[0;36mbarh\u001b[1;34m(y, width, height, left, align, **kwargs)\u001b[0m\n\u001b[0;32m   2469\u001b[0m \u001b[1;32mdef\u001b[0m \u001b[0mbarh\u001b[0m\u001b[1;33m(\u001b[0m\u001b[0my\u001b[0m\u001b[1;33m,\u001b[0m \u001b[0mwidth\u001b[0m\u001b[1;33m,\u001b[0m \u001b[0mheight\u001b[0m\u001b[1;33m=\u001b[0m\u001b[1;36m0.8\u001b[0m\u001b[1;33m,\u001b[0m \u001b[0mleft\u001b[0m\u001b[1;33m=\u001b[0m\u001b[1;32mNone\u001b[0m\u001b[1;33m,\u001b[0m \u001b[1;33m*\u001b[0m\u001b[1;33m,\u001b[0m \u001b[0malign\u001b[0m\u001b[1;33m=\u001b[0m\u001b[1;34m'center'\u001b[0m\u001b[1;33m,\u001b[0m \u001b[1;33m**\u001b[0m\u001b[0mkwargs\u001b[0m\u001b[1;33m)\u001b[0m\u001b[1;33m:\u001b[0m\u001b[1;33m\u001b[0m\u001b[1;33m\u001b[0m\u001b[0m\n\u001b[0;32m   2470\u001b[0m     return gca().barh(\n\u001b[1;32m-> 2471\u001b[1;33m         y, width, height=height, left=left, align=align, **kwargs)\n\u001b[0m\u001b[0;32m   2472\u001b[0m \u001b[1;33m\u001b[0m\u001b[0m\n\u001b[0;32m   2473\u001b[0m \u001b[1;33m\u001b[0m\u001b[0m\n",
      "\u001b[1;32m~\\Anaconda3\\lib\\site-packages\\matplotlib\\axes\\_axes.py\u001b[0m in \u001b[0;36mbarh\u001b[1;34m(self, y, width, height, left, align, **kwargs)\u001b[0m\n\u001b[0;32m   2461\u001b[0m         \u001b[0mkwargs\u001b[0m\u001b[1;33m.\u001b[0m\u001b[0msetdefault\u001b[0m\u001b[1;33m(\u001b[0m\u001b[1;34m'orientation'\u001b[0m\u001b[1;33m,\u001b[0m \u001b[1;34m'horizontal'\u001b[0m\u001b[1;33m)\u001b[0m\u001b[1;33m\u001b[0m\u001b[1;33m\u001b[0m\u001b[0m\n\u001b[0;32m   2462\u001b[0m         patches = self.bar(x=left, height=height, width=width, bottom=y,\n\u001b[1;32m-> 2463\u001b[1;33m                            align=align, **kwargs)\n\u001b[0m\u001b[0;32m   2464\u001b[0m         \u001b[1;32mreturn\u001b[0m \u001b[0mpatches\u001b[0m\u001b[1;33m\u001b[0m\u001b[1;33m\u001b[0m\u001b[0m\n\u001b[0;32m   2465\u001b[0m \u001b[1;33m\u001b[0m\u001b[0m\n",
      "\u001b[1;32m~\\Anaconda3\\lib\\site-packages\\matplotlib\\__init__.py\u001b[0m in \u001b[0;36minner\u001b[1;34m(ax, data, *args, **kwargs)\u001b[0m\n\u001b[0;32m   1808\u001b[0m                         \u001b[1;34m\"the Matplotlib list!)\"\u001b[0m \u001b[1;33m%\u001b[0m \u001b[1;33m(\u001b[0m\u001b[0mlabel_namer\u001b[0m\u001b[1;33m,\u001b[0m \u001b[0mfunc\u001b[0m\u001b[1;33m.\u001b[0m\u001b[0m__name__\u001b[0m\u001b[1;33m)\u001b[0m\u001b[1;33m,\u001b[0m\u001b[1;33m\u001b[0m\u001b[1;33m\u001b[0m\u001b[0m\n\u001b[0;32m   1809\u001b[0m                         RuntimeWarning, stacklevel=2)\n\u001b[1;32m-> 1810\u001b[1;33m             \u001b[1;32mreturn\u001b[0m \u001b[0mfunc\u001b[0m\u001b[1;33m(\u001b[0m\u001b[0max\u001b[0m\u001b[1;33m,\u001b[0m \u001b[1;33m*\u001b[0m\u001b[0margs\u001b[0m\u001b[1;33m,\u001b[0m \u001b[1;33m**\u001b[0m\u001b[0mkwargs\u001b[0m\u001b[1;33m)\u001b[0m\u001b[1;33m\u001b[0m\u001b[1;33m\u001b[0m\u001b[0m\n\u001b[0m\u001b[0;32m   1811\u001b[0m \u001b[1;33m\u001b[0m\u001b[0m\n\u001b[0;32m   1812\u001b[0m         inner.__doc__ = _add_data_doc(inner.__doc__,\n",
      "\u001b[1;32m~\\Anaconda3\\lib\\site-packages\\matplotlib\\axes\\_axes.py\u001b[0m in \u001b[0;36mbar\u001b[1;34m(self, x, height, width, bottom, align, **kwargs)\u001b[0m\n\u001b[0;32m   2249\u001b[0m         x, height, width, y, linewidth = np.broadcast_arrays(\n\u001b[0;32m   2250\u001b[0m             \u001b[1;31m# Make args iterable too.\u001b[0m\u001b[1;33m\u001b[0m\u001b[1;33m\u001b[0m\u001b[1;33m\u001b[0m\u001b[0m\n\u001b[1;32m-> 2251\u001b[1;33m             np.atleast_1d(x), height, width, y, linewidth)\n\u001b[0m\u001b[0;32m   2252\u001b[0m \u001b[1;33m\u001b[0m\u001b[0m\n\u001b[0;32m   2253\u001b[0m         \u001b[1;31m# Now that units have been converted, set the tick locations.\u001b[0m\u001b[1;33m\u001b[0m\u001b[1;33m\u001b[0m\u001b[1;33m\u001b[0m\u001b[0m\n",
      "\u001b[1;32m~\\Anaconda3\\lib\\site-packages\\numpy\\lib\\stride_tricks.py\u001b[0m in \u001b[0;36mbroadcast_arrays\u001b[1;34m(*args, **kwargs)\u001b[0m\n\u001b[0;32m    257\u001b[0m     \u001b[0margs\u001b[0m \u001b[1;33m=\u001b[0m \u001b[1;33m[\u001b[0m\u001b[0mnp\u001b[0m\u001b[1;33m.\u001b[0m\u001b[0marray\u001b[0m\u001b[1;33m(\u001b[0m\u001b[0m_m\u001b[0m\u001b[1;33m,\u001b[0m \u001b[0mcopy\u001b[0m\u001b[1;33m=\u001b[0m\u001b[1;32mFalse\u001b[0m\u001b[1;33m,\u001b[0m \u001b[0msubok\u001b[0m\u001b[1;33m=\u001b[0m\u001b[0msubok\u001b[0m\u001b[1;33m)\u001b[0m \u001b[1;32mfor\u001b[0m \u001b[0m_m\u001b[0m \u001b[1;32min\u001b[0m \u001b[0margs\u001b[0m\u001b[1;33m]\u001b[0m\u001b[1;33m\u001b[0m\u001b[1;33m\u001b[0m\u001b[0m\n\u001b[0;32m    258\u001b[0m \u001b[1;33m\u001b[0m\u001b[0m\n\u001b[1;32m--> 259\u001b[1;33m     \u001b[0mshape\u001b[0m \u001b[1;33m=\u001b[0m \u001b[0m_broadcast_shape\u001b[0m\u001b[1;33m(\u001b[0m\u001b[1;33m*\u001b[0m\u001b[0margs\u001b[0m\u001b[1;33m)\u001b[0m\u001b[1;33m\u001b[0m\u001b[1;33m\u001b[0m\u001b[0m\n\u001b[0m\u001b[0;32m    260\u001b[0m \u001b[1;33m\u001b[0m\u001b[0m\n\u001b[0;32m    261\u001b[0m     \u001b[1;32mif\u001b[0m \u001b[0mall\u001b[0m\u001b[1;33m(\u001b[0m\u001b[0marray\u001b[0m\u001b[1;33m.\u001b[0m\u001b[0mshape\u001b[0m \u001b[1;33m==\u001b[0m \u001b[0mshape\u001b[0m \u001b[1;32mfor\u001b[0m \u001b[0marray\u001b[0m \u001b[1;32min\u001b[0m \u001b[0margs\u001b[0m\u001b[1;33m)\u001b[0m\u001b[1;33m:\u001b[0m\u001b[1;33m\u001b[0m\u001b[1;33m\u001b[0m\u001b[0m\n",
      "\u001b[1;32m~\\Anaconda3\\lib\\site-packages\\numpy\\lib\\stride_tricks.py\u001b[0m in \u001b[0;36m_broadcast_shape\u001b[1;34m(*args)\u001b[0m\n\u001b[0;32m    191\u001b[0m     \u001b[1;31m# use the old-iterator because np.nditer does not handle size 0 arrays\u001b[0m\u001b[1;33m\u001b[0m\u001b[1;33m\u001b[0m\u001b[1;33m\u001b[0m\u001b[0m\n\u001b[0;32m    192\u001b[0m     \u001b[1;31m# consistently\u001b[0m\u001b[1;33m\u001b[0m\u001b[1;33m\u001b[0m\u001b[1;33m\u001b[0m\u001b[0m\n\u001b[1;32m--> 193\u001b[1;33m     \u001b[0mb\u001b[0m \u001b[1;33m=\u001b[0m \u001b[0mnp\u001b[0m\u001b[1;33m.\u001b[0m\u001b[0mbroadcast\u001b[0m\u001b[1;33m(\u001b[0m\u001b[1;33m*\u001b[0m\u001b[0margs\u001b[0m\u001b[1;33m[\u001b[0m\u001b[1;33m:\u001b[0m\u001b[1;36m32\u001b[0m\u001b[1;33m]\u001b[0m\u001b[1;33m)\u001b[0m\u001b[1;33m\u001b[0m\u001b[1;33m\u001b[0m\u001b[0m\n\u001b[0m\u001b[0;32m    194\u001b[0m     \u001b[1;31m# unfortunately, it cannot handle 32 or more arguments directly\u001b[0m\u001b[1;33m\u001b[0m\u001b[1;33m\u001b[0m\u001b[1;33m\u001b[0m\u001b[0m\n\u001b[0;32m    195\u001b[0m     \u001b[1;32mfor\u001b[0m \u001b[0mpos\u001b[0m \u001b[1;32min\u001b[0m \u001b[0mrange\u001b[0m\u001b[1;33m(\u001b[0m\u001b[1;36m32\u001b[0m\u001b[1;33m,\u001b[0m \u001b[0mlen\u001b[0m\u001b[1;33m(\u001b[0m\u001b[0margs\u001b[0m\u001b[1;33m)\u001b[0m\u001b[1;33m,\u001b[0m \u001b[1;36m31\u001b[0m\u001b[1;33m)\u001b[0m\u001b[1;33m:\u001b[0m\u001b[1;33m\u001b[0m\u001b[1;33m\u001b[0m\u001b[0m\n",
      "\u001b[1;31mValueError\u001b[0m: shape mismatch: objects cannot be broadcast to a single shape"
     ]
    },
    {
     "data": {
      "image/png": "[encoded data removed]",
      "text/plain": [
       "<Figure size 432x288 with 1 Axes>"
      ]
     },
     "metadata": {
      "needs_background": "light"
     },
     "output_type": "display_data"
    }
   ],
   "source": [
    "clist = ['g','b','y'] \n",
    "for i, c in enumerate(cluster_labels): \n",
    "    c_silhouette_vals = silhouette_vals[y_km == c] \n",
    "    c_silhouette_vals.sort() \n",
    "    y_ax_upper += len(c_silhouette_vals) \n",
    "# color = cm.jet(float(i) / n_clusters) \n",
    "    plt.barh(range(y_ax_lower, y_ax_upper), c_silhouette_vals, height=1.0, edgecolor='none', color=clist[i])\n",
    "    yticks.append((y_ax_lower + y_ax_upper) / 2.) \n",
    "    y_ax_lower += len(c_silhouette_vals)\n",
    "    \n",
    "silhouette_avg = np.mean(silhouette_vals) \n",
    "plt.axvline(silhouette_avg, color=\"red\", linestyle=\"--\")\n",
    "plt.yticks(yticks, cluster_labels + 1) \n",
    "plt.ylabel('Cluster') \n",
    "plt.xlabel('Silhouette coefficient')\n",
    "plt.tight_layout() \n",
    "#plt.savefig('images/11_04.png', dpi=300) \n",
    "plt.show()\n"
   ]
  },
  {
   "cell_type": "code",
   "execution_count": 39,
   "metadata": {},
   "outputs": [
    {
     "data": {
      "image/png": "[encoded data removed]",
      "text/plain": [
       "<Figure size 432x288 with 1 Axes>"
      ]
     },
     "metadata": {
      "needs_background": "light"
     },
     "output_type": "display_data"
    }
   ],
   "source": [
    "km = KMeans(n_clusters=2, init='k-means++', n_init=10, max_iter=300, tol=1e-04, random_state=0) \n",
    "y_km = km.fit_predict(X)\n",
    "plt.scatter(X[y_km == 0, 0], X[y_km == 0, 1], s=50, c='lightgreen', edgecolor='black', marker='s', label='cluster 1') \n",
    "plt.scatter(X[y_km == 1, 0], X[y_km == 1, 1], s=50, c='orange', edgecolor='black', marker='o', label='cluster 2')\n",
    "plt.scatter(km.cluster_centers_[:, 0], km.cluster_centers_[:, 1], s=250, marker='*', c='red')\n",
    "#, label='centroids') \n",
    "plt.legend() \n",
    "plt.grid() \n",
    "plt.tight_layout() #plt.savefig('images/11_05.png', dpi=300) \n",
    "plt.show() "
   ]
  },
  {
   "cell_type": "code",
   "execution_count": 42,
   "metadata": {},
   "outputs": [
    {
     "data": {
      "image/png": "[encoded data removed]",
      "text/plain": [
       "<Figure size 432x288 with 1 Axes>"
      ]
     },
     "metadata": {
      "needs_background": "light"
     },
     "output_type": "display_data"
    }
   ],
   "source": [
    "cluster_labels = np.unique(y_km) \n",
    "n_clusters = cluster_labels.shape[0] \n",
    "silhouette_vals = silhouette_samples(X, y_km, metric='euclidean') \n",
    "y_ax_lower, y_ax_upper = 0, 0 \n",
    "yticks = [] \n",
    "colorlist=['g','b'] \n",
    "for i, c in enumerate(cluster_labels): \n",
    "    c_silhouette_vals = silhouette_vals[y_km == c] \n",
    "    c_silhouette_vals.sort() \n",
    "    y_ax_upper += len(c_silhouette_vals) \n",
    "    # color = cm.jet(float(i) / n_clusters)b \n",
    "    plt.barh(range(y_ax_lower, y_ax_upper), c_silhouette_vals, height=1.0, edgecolor='none', color=colorlist[i])\n",
    "    yticks.append((y_ax_lower + y_ax_upper) / 2.) \n",
    "    y_ax_lower += len(c_silhouette_vals)\n",
    "    \n",
    "silhouette_avg = np.mean(silhouette_vals) \n",
    "plt.axvline(silhouette_avg, color=\"red\", linestyle=\"--\")\n",
    "plt.yticks(yticks, cluster_labels + 1) \n",
    "plt.ylabel('Cluster') \n",
    "plt.xlabel('Silhouette coefficient')\n",
    "plt.tight_layout() \n",
    "#plt.savefig('images/11_06.png', dpi=300) \n",
    "plt.show() "
   ]
  },
  {
   "cell_type": "markdown",
   "metadata": {},
   "source": [
    "# Hierachical Clustering - Agglomerative Clustering\n"
   ]
  },
  {
   "cell_type": "code",
   "execution_count": 44,
   "metadata": {},
   "outputs": [
    {
     "ename": "ModuleNotFoundError",
     "evalue": "No module named 'mglearn'",
     "output_type": "error",
     "traceback": [
      "\u001b[1;31m---------------------------------------------------------------------------\u001b[0m",
      "\u001b[1;31mModuleNotFoundError\u001b[0m                       Traceback (most recent call last)",
      "\u001b[1;32m<ipython-input-44-26a0454c3f6e>\u001b[0m in \u001b[0;36m<module>\u001b[1;34m\u001b[0m\n\u001b[1;32m----> 1\u001b[1;33m \u001b[1;32mimport\u001b[0m \u001b[0mmglearn\u001b[0m\u001b[1;33m\u001b[0m\u001b[1;33m\u001b[0m\u001b[0m\n\u001b[0m",
      "\u001b[1;31mModuleNotFoundError\u001b[0m: No module named 'mglearn'"
     ]
    }
   ],
   "source": [
    "import mglearn"
   ]
  },
  {
   "cell_type": "code",
   "execution_count": 45,
   "metadata": {},
   "outputs": [
    {
     "ename": "NameError",
     "evalue": "name 'mglearn' is not defined",
     "output_type": "error",
     "traceback": [
      "\u001b[1;31m---------------------------------------------------------------------------\u001b[0m",
      "\u001b[1;31mNameError\u001b[0m                                 Traceback (most recent call last)",
      "\u001b[1;32m<ipython-input-45-cfdfa8f733dd>\u001b[0m in \u001b[0;36m<module>\u001b[1;34m\u001b[0m\n\u001b[0;32m      1\u001b[0m \u001b[1;32mimport\u001b[0m \u001b[0mmatplotlib\u001b[0m\u001b[1;33m.\u001b[0m\u001b[0mfont_manager\u001b[0m \u001b[1;32mas\u001b[0m \u001b[0mfm\u001b[0m\u001b[1;33m\u001b[0m\u001b[1;33m\u001b[0m\u001b[0m\n\u001b[0;32m      2\u001b[0m \u001b[1;33m\u001b[0m\u001b[0m\n\u001b[1;32m----> 3\u001b[1;33m \u001b[0mmglearn\u001b[0m\u001b[1;33m.\u001b[0m\u001b[0mplots\u001b[0m\u001b[1;33m.\u001b[0m\u001b[0mplot_agglomerative_algorithm\u001b[0m\u001b[1;33m(\u001b[0m\u001b[1;33m)\u001b[0m\u001b[1;33m\u001b[0m\u001b[1;33m\u001b[0m\u001b[0m\n\u001b[0m",
      "\u001b[1;31mNameError\u001b[0m: name 'mglearn' is not defined"
     ]
    }
   ],
   "source": [
    "import matplotlib.font_manager as fm\n",
    "\n",
    "mglearn.plots.plot_agglomerative_algorithm()"
   ]
  },
  {
   "cell_type": "code",
   "execution_count": null,
   "metadata": {},
   "outputs": [],
   "source": []
  }
 ],
 "metadata": {
  "kernelspec": {
   "display_name": "Python 3",
   "language": "python",
   "name": "python3"
  },
  "language_info": {
   "codemirror_mode": {
    "name": "ipython",
    "version": 3
   },
   "file_extension": ".py",
   "mimetype": "text/x-python",
   "name": "python",
   "nbconvert_exporter": "python",
   "pygments_lexer": "ipython3",
   "version": "3.7.3"
  }
 },
 "nbformat": 4,
 "nbformat_minor": 2
}
