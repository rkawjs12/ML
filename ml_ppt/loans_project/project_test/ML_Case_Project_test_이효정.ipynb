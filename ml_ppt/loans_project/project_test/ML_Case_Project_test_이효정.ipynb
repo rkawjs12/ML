{
 "cells": [
  {
   "cell_type": "code",
   "execution_count": 1,
   "metadata": {},
   "outputs": [],
   "source": [
    "import pandas as pd\n",
    "import numpy as np\n",
    "import matplotlib.pyplot as plt\n",
    "import seaborn as sns\n",
    "\n",
    "from pandas.plotting import scatter_matrix\n",
    "from sklearn.preprocessing import StandardScaler\n",
    "from sklearn.preprocessing import MinMaxScaler\n",
    "from sklearn.preprocessing import Imputer\n",
    "from sklearn.model_selection import cross_validate, cross_val_score, KFold\n",
    "from sklearn.metrics import confusion_matrix\n",
    "from sklearn.metrics import accuracy_score\n",
    "from sklearn.pipeline import Pipeline\n",
    "from sklearn.model_selection import GridSearchCV\n",
    "from sklearn.linear_model import LogisticRegression\n",
    "from sklearn.tree import DecisionTreeClassifier\n",
    "from sklearn.neighbors import KNeighborsClassifier\n",
    "from sklearn.discriminant_analysis import LinearDiscriminantAnalysis\n",
    "from sklearn.naive_bayes import GaussianNB\n",
    "from sklearn.ensemble import RandomForestClassifier\n",
    "from sklearn.svm import SVC\n",
    "\n",
    "%matplotlib inline"
   ]
  },
  {
   "cell_type": "code",
   "execution_count": 2,
   "metadata": {},
   "outputs": [],
   "source": [
    "# loans_tr 데이터를 load\n",
    "dt = pd.read_csv('loans_tr.csv')"
   ]
  },
  {
   "cell_type": "code",
   "execution_count": 3,
   "metadata": {},
   "outputs": [
    {
     "data": {
      "text/html": [
       "<div>\n",
       "<style scoped>\n",
       "    .dataframe tbody tr th:only-of-type {\n",
       "        vertical-align: middle;\n",
       "    }\n",
       "\n",
       "    .dataframe tbody tr th {\n",
       "        vertical-align: top;\n",
       "    }\n",
       "\n",
       "    .dataframe thead th {\n",
       "        text-align: right;\n",
       "    }\n",
       "</style>\n",
       "<table border=\"1\" class=\"dataframe\">\n",
       "  <thead>\n",
       "    <tr style=\"text-align: right;\">\n",
       "      <th></th>\n",
       "      <th>Unnamed: 0</th>\n",
       "      <th>credit.policy</th>\n",
       "      <th>purpose</th>\n",
       "      <th>int.rate</th>\n",
       "      <th>installment</th>\n",
       "      <th>log.annual.inc</th>\n",
       "      <th>dti</th>\n",
       "      <th>fico</th>\n",
       "      <th>days.with.cr.line</th>\n",
       "      <th>revol.bal</th>\n",
       "      <th>revol.util</th>\n",
       "      <th>inq.last.6mths</th>\n",
       "      <th>delinq.2yrs</th>\n",
       "      <th>pub.rec</th>\n",
       "      <th>not.fully.paid</th>\n",
       "    </tr>\n",
       "  </thead>\n",
       "  <tbody>\n",
       "    <tr>\n",
       "      <th>0</th>\n",
       "      <td>0</td>\n",
       "      <td>1</td>\n",
       "      <td>debt_consolidation</td>\n",
       "      <td>0.1189</td>\n",
       "      <td>829.10</td>\n",
       "      <td>11.350407</td>\n",
       "      <td>19.48</td>\n",
       "      <td>737</td>\n",
       "      <td>5639.958333</td>\n",
       "      <td>28854</td>\n",
       "      <td>52.1</td>\n",
       "      <td>0</td>\n",
       "      <td>0</td>\n",
       "      <td>0</td>\n",
       "      <td>0</td>\n",
       "    </tr>\n",
       "    <tr>\n",
       "      <th>1</th>\n",
       "      <td>1</td>\n",
       "      <td>1</td>\n",
       "      <td>credit_card</td>\n",
       "      <td>0.1071</td>\n",
       "      <td>228.22</td>\n",
       "      <td>11.082143</td>\n",
       "      <td>14.29</td>\n",
       "      <td>707</td>\n",
       "      <td>2760.000000</td>\n",
       "      <td>33623</td>\n",
       "      <td>76.7</td>\n",
       "      <td>0</td>\n",
       "      <td>0</td>\n",
       "      <td>0</td>\n",
       "      <td>0</td>\n",
       "    </tr>\n",
       "    <tr>\n",
       "      <th>2</th>\n",
       "      <td>2</td>\n",
       "      <td>1</td>\n",
       "      <td>debt_consolidation</td>\n",
       "      <td>0.1357</td>\n",
       "      <td>366.86</td>\n",
       "      <td>10.373491</td>\n",
       "      <td>11.63</td>\n",
       "      <td>682</td>\n",
       "      <td>4710.000000</td>\n",
       "      <td>3511</td>\n",
       "      <td>25.6</td>\n",
       "      <td>1</td>\n",
       "      <td>0</td>\n",
       "      <td>0</td>\n",
       "      <td>0</td>\n",
       "    </tr>\n",
       "    <tr>\n",
       "      <th>3</th>\n",
       "      <td>3</td>\n",
       "      <td>1</td>\n",
       "      <td>debt_consolidation</td>\n",
       "      <td>0.1008</td>\n",
       "      <td>162.34</td>\n",
       "      <td>11.350407</td>\n",
       "      <td>8.10</td>\n",
       "      <td>712</td>\n",
       "      <td>2699.958333</td>\n",
       "      <td>33667</td>\n",
       "      <td>73.2</td>\n",
       "      <td>1</td>\n",
       "      <td>0</td>\n",
       "      <td>0</td>\n",
       "      <td>0</td>\n",
       "    </tr>\n",
       "    <tr>\n",
       "      <th>4</th>\n",
       "      <td>4</td>\n",
       "      <td>1</td>\n",
       "      <td>credit_card</td>\n",
       "      <td>0.1426</td>\n",
       "      <td>102.92</td>\n",
       "      <td>11.299732</td>\n",
       "      <td>14.97</td>\n",
       "      <td>667</td>\n",
       "      <td>4066.000000</td>\n",
       "      <td>4740</td>\n",
       "      <td>39.5</td>\n",
       "      <td>0</td>\n",
       "      <td>1</td>\n",
       "      <td>0</td>\n",
       "      <td>0</td>\n",
       "    </tr>\n",
       "  </tbody>\n",
       "</table>\n",
       "</div>"
      ],
      "text/plain": [
       "   Unnamed: 0  credit.policy             purpose  int.rate  installment  \\\n",
       "0           0              1  debt_consolidation    0.1189       829.10   \n",
       "1           1              1         credit_card    0.1071       228.22   \n",
       "2           2              1  debt_consolidation    0.1357       366.86   \n",
       "3           3              1  debt_consolidation    0.1008       162.34   \n",
       "4           4              1         credit_card    0.1426       102.92   \n",
       "\n",
       "   log.annual.inc    dti  fico  days.with.cr.line  revol.bal  revol.util  \\\n",
       "0       11.350407  19.48   737        5639.958333      28854        52.1   \n",
       "1       11.082143  14.29   707        2760.000000      33623        76.7   \n",
       "2       10.373491  11.63   682        4710.000000       3511        25.6   \n",
       "3       11.350407   8.10   712        2699.958333      33667        73.2   \n",
       "4       11.299732  14.97   667        4066.000000       4740        39.5   \n",
       "\n",
       "   inq.last.6mths  delinq.2yrs  pub.rec  not.fully.paid  \n",
       "0               0            0        0               0  \n",
       "1               0            0        0               0  \n",
       "2               1            0        0               0  \n",
       "3               1            0        0               0  \n",
       "4               0            1        0               0  "
      ]
     },
     "execution_count": 3,
     "metadata": {},
     "output_type": "execute_result"
    }
   ],
   "source": [
    "dt.head()"
   ]
  },
  {
   "cell_type": "code",
   "execution_count": 4,
   "metadata": {},
   "outputs": [
    {
     "name": "stdout",
     "output_type": "stream",
     "text": [
      "<class 'pandas.core.frame.DataFrame'>\n",
      "RangeIndex: 8578 entries, 0 to 8577\n",
      "Data columns (total 15 columns):\n",
      "Unnamed: 0           8578 non-null int64\n",
      "credit.policy        8578 non-null int64\n",
      "purpose              8578 non-null object\n",
      "int.rate             8578 non-null float64\n",
      "installment          8578 non-null float64\n",
      "log.annual.inc       8578 non-null float64\n",
      "dti                  8578 non-null float64\n",
      "fico                 8578 non-null int64\n",
      "days.with.cr.line    8578 non-null float64\n",
      "revol.bal            8578 non-null int64\n",
      "revol.util           8578 non-null float64\n",
      "inq.last.6mths       8578 non-null int64\n",
      "delinq.2yrs          8578 non-null int64\n",
      "pub.rec              8578 non-null int64\n",
      "not.fully.paid       8578 non-null int64\n",
      "dtypes: float64(6), int64(8), object(1)\n",
      "memory usage: 1005.3+ KB\n"
     ]
    }
   ],
   "source": [
    "dt.info()"
   ]
  },
  {
   "cell_type": "code",
   "execution_count": 5,
   "metadata": {},
   "outputs": [
    {
     "data": {
      "text/plain": [
       "(8578, 15)"
      ]
     },
     "execution_count": 5,
     "metadata": {},
     "output_type": "execute_result"
    }
   ],
   "source": [
    "dt.shape"
   ]
  },
  {
   "cell_type": "code",
   "execution_count": 6,
   "metadata": {},
   "outputs": [],
   "source": [
    "dt.drop('Unnamed: 0', axis = 1, inplace = True)"
   ]
  },
  {
   "cell_type": "code",
   "execution_count": 7,
   "metadata": {
    "scrolled": true
   },
   "outputs": [
    {
     "data": {
      "text/plain": [
       "debt_consolidation    3547\n",
       "all_other             2082\n",
       "credit_card           1143\n",
       "home_improvement       556\n",
       "small_business         547\n",
       "major_purchase         395\n",
       "educational            308\n",
       "Name: purpose, dtype: int64"
      ]
     },
     "execution_count": 7,
     "metadata": {},
     "output_type": "execute_result"
    }
   ],
   "source": [
    "dt['purpose'].value_counts()"
   ]
  },
  {
   "cell_type": "code",
   "execution_count": 8,
   "metadata": {},
   "outputs": [
    {
     "data": {
      "text/plain": [
       "array(['debt_consolidation', 'credit_card', 'all_other',\n",
       "       'home_improvement', 'small_business', 'major_purchase',\n",
       "       'educational'], dtype=object)"
      ]
     },
     "execution_count": 8,
     "metadata": {},
     "output_type": "execute_result"
    }
   ],
   "source": [
    "dt['purpose'].unique()"
   ]
  },
  {
   "cell_type": "code",
   "execution_count": 9,
   "metadata": {},
   "outputs": [
    {
     "data": {
      "text/plain": [
       "<matplotlib.axes._subplots.AxesSubplot at 0x128ec7208d0>"
      ]
     },
     "execution_count": 9,
     "metadata": {},
     "output_type": "execute_result"
    },
    {
     "data": {
      "image/png": "[encoded data removed]",
      "text/plain": [
       "<Figure size 432x288 with 1 Axes>"
      ]
     },
     "metadata": {
      "needs_background": "light"
     },
     "output_type": "display_data"
    }
   ],
   "source": [
    "sns.countplot(x = 'purpose', hue = 'not.fully.paid', data = dt)"
   ]
  },
  {
   "cell_type": "code",
   "execution_count": 10,
   "metadata": {},
   "outputs": [],
   "source": [
    "ob = ['purpose']"
   ]
  },
  {
   "cell_type": "code",
   "execution_count": 11,
   "metadata": {},
   "outputs": [],
   "source": [
    "final_dt = pd.get_dummies(dt, columns = ob, drop_first = True)"
   ]
  },
  {
   "cell_type": "code",
   "execution_count": 12,
   "metadata": {},
   "outputs": [
    {
     "name": "stdout",
     "output_type": "stream",
     "text": [
      "<class 'pandas.core.frame.DataFrame'>\n",
      "RangeIndex: 8578 entries, 0 to 8577\n",
      "Data columns (total 19 columns):\n",
      "credit.policy                 8578 non-null int64\n",
      "int.rate                      8578 non-null float64\n",
      "installment                   8578 non-null float64\n",
      "log.annual.inc                8578 non-null float64\n",
      "dti                           8578 non-null float64\n",
      "fico                          8578 non-null int64\n",
      "days.with.cr.line             8578 non-null float64\n",
      "revol.bal                     8578 non-null int64\n",
      "revol.util                    8578 non-null float64\n",
      "inq.last.6mths                8578 non-null int64\n",
      "delinq.2yrs                   8578 non-null int64\n",
      "pub.rec                       8578 non-null int64\n",
      "not.fully.paid                8578 non-null int64\n",
      "purpose_credit_card           8578 non-null uint8\n",
      "purpose_debt_consolidation    8578 non-null uint8\n",
      "purpose_educational           8578 non-null uint8\n",
      "purpose_home_improvement      8578 non-null uint8\n",
      "purpose_major_purchase        8578 non-null uint8\n",
      "purpose_small_business        8578 non-null uint8\n",
      "dtypes: float64(6), int64(7), uint8(6)\n",
      "memory usage: 921.5 KB\n"
     ]
    }
   ],
   "source": [
    "final_dt.info()"
   ]
  },
  {
   "cell_type": "code",
   "execution_count": 13,
   "metadata": {},
   "outputs": [
    {
     "data": {
      "image/png": "[encoded data removed]",
      "text/plain": [
       "<Figure size 1080x1080 with 20 Axes>"
      ]
     },
     "metadata": {
      "needs_background": "light"
     },
     "output_type": "display_data"
    }
   ],
   "source": [
    "# histograms\n",
    "plt.rcParams['figure.figsize'] = (15,15)\n",
    "final_dt.hist()\n",
    "plt.show()"
   ]
  },
  {
   "cell_type": "code",
   "execution_count": 14,
   "metadata": {
    "scrolled": false
   },
   "outputs": [
    {
     "data": {
      "text/plain": [
       "<matplotlib.legend.Legend at 0x128ed62d518>"
      ]
     },
     "execution_count": 14,
     "metadata": {},
     "output_type": "execute_result"
    },
    {
     "data": {
      "image/png": "[encoded data removed]",
      "text/plain": [
       "<Figure size 1080x1080 with 1 Axes>"
      ]
     },
     "metadata": {
      "needs_background": "light"
     },
     "output_type": "display_data"
    }
   ],
   "source": [
    "final_dt[final_dt['not.fully.paid'] == 1]['fico'].hist(alpha = 0.5, color = 'blue', bins = 30, label = 'not.fully.paid=1')\n",
    "final_dt[final_dt['not.fully.paid'] == 0]['fico'].hist(alpha = 0.5, color = 'red', bins = 30, label = 'not.fully.paid=0')\n",
    "plt.legend()"
   ]
  },
  {
   "cell_type": "code",
   "execution_count": 15,
   "metadata": {},
   "outputs": [],
   "source": [
    "# X_data, y_data division\n",
    "from sklearn.model_selection import train_test_split\n",
    "\n",
    "x = final_dt.drop('not.fully.paid', axis = 1)\n",
    "y = final_dt['not.fully.paid']"
   ]
  },
  {
   "cell_type": "code",
   "execution_count": 16,
   "metadata": {},
   "outputs": [],
   "source": [
    "# train data, test data division\n",
    "x_train, x_test, y_train, y_test = train_test_split(x, y, test_size = 0.3)"
   ]
  },
  {
   "cell_type": "code",
   "execution_count": 17,
   "metadata": {},
   "outputs": [],
   "source": [
    "# Compare Algorithms - model selection\n",
    "models = []\n",
    "models.append(('LR', LogisticRegression()))\n",
    "models.append(('SVC', SVC()))\n",
    "models.append(('KNN', KNeighborsClassifier()))\n",
    "models.append(('CART', DecisionTreeClassifier()))\n",
    "models.append(('NB', GaussianNB()))\n",
    "models.append(('RF', RandomForestClassifier()))"
   ]
  },
  {
   "cell_type": "code",
   "execution_count": 18,
   "metadata": {},
   "outputs": [
    {
     "data": {
      "text/plain": [
       "[('LR',\n",
       "  LogisticRegression(C=1.0, class_weight=None, dual=False, fit_intercept=True,\n",
       "            intercept_scaling=1, max_iter=100, multi_class='warn',\n",
       "            n_jobs=None, penalty='l2', random_state=None, solver='warn',\n",
       "            tol=0.0001, verbose=0, warm_start=False)),\n",
       " ('SVC', SVC(C=1.0, cache_size=200, class_weight=None, coef0=0.0,\n",
       "    decision_function_shape='ovr', degree=3, gamma='auto_deprecated',\n",
       "    kernel='rbf', max_iter=-1, probability=False, random_state=None,\n",
       "    shrinking=True, tol=0.001, verbose=False)),\n",
       " ('KNN',\n",
       "  KNeighborsClassifier(algorithm='auto', leaf_size=30, metric='minkowski',\n",
       "             metric_params=None, n_jobs=None, n_neighbors=5, p=2,\n",
       "             weights='uniform')),\n",
       " ('CART',\n",
       "  DecisionTreeClassifier(class_weight=None, criterion='gini', max_depth=None,\n",
       "              max_features=None, max_leaf_nodes=None,\n",
       "              min_impurity_decrease=0.0, min_impurity_split=None,\n",
       "              min_samples_leaf=1, min_samples_split=2,\n",
       "              min_weight_fraction_leaf=0.0, presort=False, random_state=None,\n",
       "              splitter='best')),\n",
       " ('NB', GaussianNB(priors=None, var_smoothing=1e-09)),\n",
       " ('RF',\n",
       "  RandomForestClassifier(bootstrap=True, class_weight=None, criterion='gini',\n",
       "              max_depth=None, max_features='auto', max_leaf_nodes=None,\n",
       "              min_impurity_decrease=0.0, min_impurity_split=None,\n",
       "              min_samples_leaf=1, min_samples_split=2,\n",
       "              min_weight_fraction_leaf=0.0, n_estimators='warn', n_jobs=None,\n",
       "              oob_score=False, random_state=None, verbose=0,\n",
       "              warm_start=False))]"
      ]
     },
     "execution_count": 18,
     "metadata": {},
     "output_type": "execute_result"
    }
   ],
   "source": [
    "import warnings\n",
    "warnings.simplefilter('ignore')\n",
    "\n",
    "models"
   ]
  },
  {
   "cell_type": "code",
   "execution_count": 19,
   "metadata": {},
   "outputs": [
    {
     "name": "stdout",
     "output_type": "stream",
     "text": [
      "LR: 0.838765 (0.015141)\n",
      "SVC: 0.838931 (0.014062)\n",
      "KNN: 0.819278 (0.013969)\n",
      "CART: 0.739502 (0.010087)\n",
      "NB: 0.820443 (0.019384)\n",
      "RF: 0.832935 (0.015174)\n",
      "[array([0.85856905, 0.8469218 , 0.84193012, 0.86522463, 0.84      ,\n",
      "       0.82666667, 0.83166667, 0.84166667, 0.82      , 0.815     ]), array([0.86023295, 0.8469218 , 0.8452579 , 0.86023295, 0.83833333,\n",
      "       0.825     , 0.83333333, 0.84      , 0.82333333, 0.81666667]), array([0.8452579 , 0.82196339, 0.82362729, 0.83860233, 0.81333333,\n",
      "       0.80166667, 0.81833333, 0.82166667, 0.81      , 0.79833333]), array([0.75707155, 0.74043261, 0.74542429, 0.74209651, 0.73666667,\n",
      "       0.715     , 0.74333333, 0.73666667, 0.74333333, 0.735     ]), array([0.83527454, 0.82695507, 0.82196339, 0.85856905, 0.83833333,\n",
      "       0.8       , 0.81333333, 0.815     , 0.80666667, 0.78833333]), array([0.84858569, 0.84858569, 0.83693844, 0.85856905, 0.83833333,\n",
      "       0.815     , 0.825     , 0.83      , 0.81666667, 0.81166667])]\n"
     ]
    }
   ],
   "source": [
    "# cross validaton을 통해 optimal model selection\n",
    "results = []\n",
    "names = []\n",
    "for name, model in models:\n",
    "    \n",
    "    kf = KFold(n_splits = 10, random_state = 15)\n",
    "    cv_results = cross_val_score(model, x_train, y_train, cv = kf, scoring = 'accuracy')\n",
    "    results.append(cv_results)\n",
    "    names.append(name)\n",
    "    msg = \"%s: %f (%f)\" % (name, cv_results.mean(), cv_results.std())\n",
    "    print(msg)\n",
    "    \n",
    "print(results)"
   ]
  },
  {
   "cell_type": "code",
   "execution_count": 20,
   "metadata": {},
   "outputs": [
    {
     "data": {
      "image/png": "[encoded data removed]",
      "text/plain": [
       "<Figure size 1080x1080 with 1 Axes>"
      ]
     },
     "metadata": {
      "needs_background": "light"
     },
     "output_type": "display_data"
    }
   ],
   "source": [
    "# Compare Algorithms\n",
    "fig = plt.figure()\n",
    "fig.suptitle('Algorithm Comparison')\n",
    "ax = fig.add_subplot(111)\n",
    "plt.boxplot(results)\n",
    "ax.set_xticklabels(names)\n",
    "plt.show()"
   ]
  },
  {
   "cell_type": "code",
   "execution_count": 21,
   "metadata": {},
   "outputs": [],
   "source": [
    "# pipeline을 활용해서 scaling하고 optimal model selection\n",
    "# Standardize the dataset\n",
    "pipelines = []\n",
    "pipelines.append(('ScaledLR', Pipeline([('Scaler', StandardScaler()),('LR', LogisticRegression())])))\n",
    "pipelines.append(('ScaledSVC', Pipeline([('Scaler', StandardScaler()),('SVC', SVC())])))\n",
    "pipelines.append(('ScaledKNN', Pipeline([('Scaler', StandardScaler()),('KNN', KNeighborsClassifier())])))\n",
    "pipelines.append(('ScaledCART', Pipeline([('Scaler', StandardScaler()),('CART', DecisionTreeClassifier())])))\n",
    "pipelines.append(('ScaledNB', Pipeline([('Scaler', StandardScaler()),('NB', GaussianNB())])))\n",
    "pipelines.append(('ScaledRF', Pipeline([('Scaler', StandardScaler()),('RF', RandomForestClassifier())])))"
   ]
  },
  {
   "cell_type": "code",
   "execution_count": 22,
   "metadata": {},
   "outputs": [
    {
     "data": {
      "text/plain": [
       "[('ScaledLR', Pipeline(memory=None,\n",
       "       steps=[('Scaler', StandardScaler(copy=True, with_mean=True, with_std=True)), ('LR', LogisticRegression(C=1.0, class_weight=None, dual=False, fit_intercept=True,\n",
       "            intercept_scaling=1, max_iter=100, multi_class='warn',\n",
       "            n_jobs=None, penalty='l2', random_state=None, solver='warn',\n",
       "            tol=0.0001, verbose=0, warm_start=False))])),\n",
       " ('ScaledSVC', Pipeline(memory=None,\n",
       "       steps=[('Scaler', StandardScaler(copy=True, with_mean=True, with_std=True)), ('SVC', SVC(C=1.0, cache_size=200, class_weight=None, coef0=0.0,\n",
       "    decision_function_shape='ovr', degree=3, gamma='auto_deprecated',\n",
       "    kernel='rbf', max_iter=-1, probability=False, random_state=None,\n",
       "    shrinking=True, tol=0.001, verbose=False))])),\n",
       " ('ScaledKNN', Pipeline(memory=None,\n",
       "       steps=[('Scaler', StandardScaler(copy=True, with_mean=True, with_std=True)), ('KNN', KNeighborsClassifier(algorithm='auto', leaf_size=30, metric='minkowski',\n",
       "             metric_params=None, n_jobs=None, n_neighbors=5, p=2,\n",
       "             weights='uniform'))])),\n",
       " ('ScaledCART', Pipeline(memory=None,\n",
       "       steps=[('Scaler', StandardScaler(copy=True, with_mean=True, with_std=True)), ('CART', DecisionTreeClassifier(class_weight=None, criterion='gini', max_depth=None,\n",
       "              max_features=None, max_leaf_nodes=None,\n",
       "              min_impurity_decrease=0.0, min_impurity_split=None,\n",
       "              min_samples_leaf=1, min_samples_split=2,\n",
       "              min_weight_fraction_leaf=0.0, presort=False, random_state=None,\n",
       "              splitter='best'))])),\n",
       " ('ScaledNB', Pipeline(memory=None,\n",
       "       steps=[('Scaler', StandardScaler(copy=True, with_mean=True, with_std=True)), ('NB', GaussianNB(priors=None, var_smoothing=1e-09))])),\n",
       " ('ScaledRF', Pipeline(memory=None,\n",
       "       steps=[('Scaler', StandardScaler(copy=True, with_mean=True, with_std=True)), ('RF', RandomForestClassifier(bootstrap=True, class_weight=None, criterion='gini',\n",
       "              max_depth=None, max_features='auto', max_leaf_nodes=None,\n",
       "              min_impurity_decrease=0.0, min_impurity_split=None,\n",
       "        ...obs=None,\n",
       "              oob_score=False, random_state=None, verbose=0,\n",
       "              warm_start=False))]))]"
      ]
     },
     "execution_count": 22,
     "metadata": {},
     "output_type": "execute_result"
    }
   ],
   "source": [
    "pipelines"
   ]
  },
  {
   "cell_type": "code",
   "execution_count": 23,
   "metadata": {},
   "outputs": [
    {
     "name": "stdout",
     "output_type": "stream",
     "text": [
      "ScaledLR: 0.838599 (0.013250)\n",
      "ScaledSVC: 0.838930 (0.014763)\n",
      "ScaledKNN: 0.822275 (0.015143)\n",
      "ScaledCART: 0.741999 (0.015619)\n",
      "ScaledNB: 0.777810 (0.014432)\n",
      "ScaledRF: 0.829271 (0.014304)\n",
      "[array([0.85690516, 0.85191348, 0.84026622, 0.85856905, 0.84      ,\n",
      "       0.82666667, 0.83      , 0.83833333, 0.82666667, 0.81666667]), array([0.86189684, 0.85024958, 0.8452579 , 0.86023295, 0.83666667,\n",
      "       0.82166667, 0.83      , 0.84      , 0.82666667, 0.81666667]), array([0.84026622, 0.83527454, 0.82695507, 0.8469218 , 0.82166667,\n",
      "       0.82      , 0.82166667, 0.81      , 0.80333333, 0.79666667]), array([0.76705491, 0.74209651, 0.74209651, 0.75707155, 0.74333333,\n",
      "       0.70333333, 0.74666667, 0.73666667, 0.745     , 0.73666667]), array([0.77537438, 0.78702163, 0.78369384, 0.7953411 , 0.80333333,\n",
      "       0.77      , 0.77666667, 0.76      , 0.77333333, 0.75333333]), array([0.8452579 , 0.84026622, 0.83194676, 0.85524126, 0.83333333,\n",
      "       0.805     , 0.82      , 0.82666667, 0.82      , 0.815     ])]\n"
     ]
    }
   ],
   "source": [
    "num_instances = len(x_train)\n",
    "results = []\n",
    "names = []\n",
    "for name, model in pipelines:\n",
    "    kfold = KFold(n_splits = 10, random_state = 15)\n",
    "    cv_results = cross_val_score(model, x_train, y_train, cv=kfold, scoring = 'accuracy')\n",
    "    results.append(cv_results)\n",
    "    names.append(name)\n",
    "    msg = \"%s: %f (%f)\" % (name, cv_results.mean(), cv_results.std())\n",
    "    print(msg)\n",
    "print(results)"
   ]
  },
  {
   "cell_type": "code",
   "execution_count": 24,
   "metadata": {},
   "outputs": [
    {
     "data": {
      "image/png": "[encoded data removed]",
      "text/plain": [
       "<Figure size 1080x1080 with 1 Axes>"
      ]
     },
     "metadata": {
      "needs_background": "light"
     },
     "output_type": "display_data"
    }
   ],
   "source": [
    "# Compare Algorithms\n",
    "fig = plt.figure()\n",
    "fig.suptitle('Scaled Algorithm Comparison')\n",
    "ax = fig.add_subplot(111)\n",
    "plt.boxplot(results)\n",
    "ax.set_xticklabels(names)\n",
    "plt.show()"
   ]
  },
  {
   "cell_type": "code",
   "execution_count": 25,
   "metadata": {},
   "outputs": [],
   "source": [
    "logistic_regression = LogisticRegression(random_state=1)\n",
    "logistic_regression.fit(x_train, y_train)\n",
    "pred_logistic = logistic_regression.predict(x_test)"
   ]
  },
  {
   "cell_type": "code",
   "execution_count": 26,
   "metadata": {},
   "outputs": [
    {
     "data": {
      "text/plain": [
       "(array([[-6.39280550e-02,  5.66975983e-03,  9.24094623e-04,\n",
       "         -9.05169900e-03,  4.65977523e-03, -3.21624413e-03,\n",
       "         -3.78148825e-05,  2.04588171e-06,  5.67996906e-03,\n",
       "          1.42622597e-01,  2.09399024e-02,  2.22179075e-02,\n",
       "         -3.43735126e-02, -4.78618875e-02,  7.59293464e-03,\n",
       "          2.44756899e-03, -4.70019612e-03,  4.99643586e-02]]),\n",
       " array([0.0083276]))"
      ]
     },
     "execution_count": 26,
     "metadata": {},
     "output_type": "execute_result"
    }
   ],
   "source": [
    "logistic_regression.coef_, logistic_regression.intercept_"
   ]
  },
  {
   "cell_type": "code",
   "execution_count": 27,
   "metadata": {},
   "outputs": [
    {
     "name": "stdout",
     "output_type": "stream",
     "text": [
      "[[2161   11]\n",
      " [ 399    3]]\n",
      "              precision    recall  f1-score   support\n",
      "\n",
      "           0       0.84      0.99      0.91      2172\n",
      "           1       0.21      0.01      0.01       402\n",
      "\n",
      "   micro avg       0.84      0.84      0.84      2574\n",
      "   macro avg       0.53      0.50      0.46      2574\n",
      "weighted avg       0.75      0.84      0.77      2574\n",
      "\n",
      "f1 정확도 :  0.014423076923076924\n"
     ]
    }
   ],
   "source": [
    "from sklearn.metrics import confusion_matrix, classification_report, f1_score\n",
    "print(confusion_matrix(y_test, pred_logistic))\n",
    "print(classification_report(y_test, pred_logistic))\n",
    "print('f1 정확도 : ', f1_score(y_test, pred_logistic))"
   ]
  },
  {
   "cell_type": "code",
   "execution_count": 28,
   "metadata": {},
   "outputs": [
    {
     "name": "stdout",
     "output_type": "stream",
     "text": [
      "cv 훈련 세트 정확도 :    0.8377748197448696\n",
      "cv 테스트 세트 정확도 :  0.8414894579676048\n"
     ]
    }
   ],
   "source": [
    "print('cv 훈련 세트 정확도 :   ', np.mean(cross_val_score(logistic_regression, x_train, y_train, cv=5)))\n",
    "print('cv 테스트 세트 정확도 : ', np.mean(cross_val_score(logistic_regression, x_test, y_test, cv=5)))"
   ]
  },
  {
   "cell_type": "code",
   "execution_count": 29,
   "metadata": {},
   "outputs": [
    {
     "name": "stdout",
     "output_type": "stream",
     "text": [
      "훈련 세트 정확도 :    0.8379413724183877\n",
      "테스트 세트 정확도 :  0.8407148407148407\n"
     ]
    }
   ],
   "source": [
    "print('훈련 세트 정확도 :   ', logistic_regression.score(x_train, y_train))\n",
    "print('테스트 세트 정확도 : ', logistic_regression.score(x_test, y_test))"
   ]
  },
  {
   "cell_type": "code",
   "execution_count": 30,
   "metadata": {},
   "outputs": [],
   "source": [
    "svc = SVC(random_state=1)\n",
    "svc.fit(x_train, y_train)\n",
    "pred_svc= svc.predict(x_test)"
   ]
  },
  {
   "cell_type": "code",
   "execution_count": null,
   "metadata": {},
   "outputs": [],
   "source": [
    "params = {'C':[0.1,0.5,1,2,4,8,20,200], 'gamma':[0.1,1,10,100,1000]}\n",
    "grid = GridSearchCV(svc, param_grid = params)\n",
    "grid.fit(x_train, y_train)\n",
    "pred_grid = grid.predict(x_test)"
   ]
  },
  {
   "cell_type": "code",
   "execution_count": null,
   "metadata": {},
   "outputs": [],
   "source": [
    "grid.best_score_, grid.best_params_"
   ]
  },
  {
   "cell_type": "code",
   "execution_count": null,
   "metadata": {},
   "outputs": [],
   "source": [
    "print(confusion_matrix(y_test, pred_grid))\n",
    "print(classification_report(y_test, pred_grid))\n",
    "print('f1 정확도 : ', f1_score(y_test, pred_grid))"
   ]
  },
  {
   "cell_type": "code",
   "execution_count": null,
   "metadata": {},
   "outputs": [],
   "source": [
    "print('cv 훈련 세트 정확도 :   ', np.mean(cross_val_score(grid, x_train, y_train, cv=5)))\n",
    "print('cv 테스트 세트 정확도 : ', np.mean(cross_val_score(grid, x_test, y_test, cv=5)))"
   ]
  },
  {
   "cell_type": "code",
   "execution_count": null,
   "metadata": {},
   "outputs": [],
   "source": [
    "print('훈련 세트 정확도 :   ', grid.score(x_train, y_train))\n",
    "print('테스트 세트 정확도 : ', grid.score(x_test, y_test))"
   ]
  },
  {
   "cell_type": "code",
   "execution_count": null,
   "metadata": {},
   "outputs": [],
   "source": []
  },
  {
   "cell_type": "code",
   "execution_count": null,
   "metadata": {},
   "outputs": [],
   "source": []
  },
  {
   "cell_type": "code",
   "execution_count": 25,
   "metadata": {},
   "outputs": [
    {
     "data": {
      "text/plain": [
       "GradientBoostingRegressor(alpha=0.9, criterion='friedman_mse', init=None,\n",
       "             learning_rate=0.55, loss='ls', max_depth=2, max_features=None,\n",
       "             max_leaf_nodes=None, min_impurity_decrease=0.0,\n",
       "             min_impurity_split=None, min_samples_leaf=1,\n",
       "             min_samples_split=2, min_weight_fraction_leaf=0.0,\n",
       "             n_estimators=2000, n_iter_no_change=None, presort='auto',\n",
       "             random_state=None, subsample=0.5, tol=0.0001,\n",
       "             validation_fraction=0.1, verbose=0, warm_start=False)"
      ]
     },
     "execution_count": 25,
     "metadata": {},
     "output_type": "execute_result"
    }
   ],
   "source": [
    "from sklearn.ensemble import GradientBoostingRegressor\n",
    "gbr = GradientBoostingRegressor(n_estimators = 500, subsample = 0.5, max_depth = 3, learning_rate = 0.1)\n",
    "gbr.fit(x_train, y_train)\n",
    "pred_gbr = gbr.predict(x_test)"
   ]
  },
  {
   "cell_type": "code",
   "execution_count": null,
   "metadata": {},
   "outputs": [],
   "source": [
    "print(confusion_matrix(y_test, pred_gbr)\n",
    "print(classification_report(y_test, pred_gbr))\n",
    "print('f1 정확도 : ', f1_score(y_test, pred_gbr))"
   ]
  },
  {
   "cell_type": "code",
   "execution_count": null,
   "metadata": {},
   "outputs": [],
   "source": [
    "print('cv 훈련 세트 정확도 :   ', np.mean(cross_val_score(gbr, x_train, y_train, cv=5)))\n",
    "print('cv 테스트 세트 정확도 : ', np.mean(cross_val_score(gbr, x_test, y_test, cv=5)))"
   ]
  },
  {
   "cell_type": "code",
   "execution_count": null,
   "metadata": {},
   "outputs": [],
   "source": [
    "print('훈련 세트 정확도 :   ', gbr.score(x_train, y_train))\n",
    "print('테스트 세트 정확도 : ', gbr.score(x_test, y_test))"
   ]
  },
  {
   "cell_type": "code",
   "execution_count": null,
   "metadata": {},
   "outputs": [],
   "source": [
    "gbr.best_params_"
   ]
  },
  {
   "cell_type": "code",
   "execution_count": null,
   "metadata": {},
   "outputs": [],
   "source": [
    "gbr.best_score_"
   ]
  },
  {
   "cell_type": "code",
   "execution_count": null,
   "metadata": {},
   "outputs": [],
   "source": [
    "gbr.score(x_test, y_test)"
   ]
  },
  {
   "cell_type": "code",
   "execution_count": null,
   "metadata": {},
   "outputs": [],
   "source": [
    "models = [logistic_regression, svc,  gbr]\n",
    "\n",
    "for model in models:\n",
    "    print(model)\n",
    "    print('train score: ', model.score(x_train, y_train))\n",
    "    print('test score:  ', model.score(x_test, y_test))\n",
    "    print('f1 score:    ', f1_score(y_test, model.predict(x_test)))\n",
    "    print('-'*20)"
   ]
  },
  {
   "cell_type": "code",
   "execution_count": null,
   "metadata": {},
   "outputs": [],
   "source": []
  },
  {
   "cell_type": "code",
   "execution_count": null,
   "metadata": {},
   "outputs": [],
   "source": []
  },
  {
   "cell_type": "code",
   "execution_count": null,
   "metadata": {},
   "outputs": [],
   "source": [
    "# final test score - test data"
   ]
  },
  {
   "cell_type": "code",
   "execution_count": null,
   "metadata": {},
   "outputs": [],
   "source": []
  }
 ],
 "metadata": {
  "kernelspec": {
   "display_name": "Python 3",
   "language": "python",
   "name": "python3"
  },
  "language_info": {
   "codemirror_mode": {
    "name": "ipython",
    "version": 3
   },
   "file_extension": ".py",
   "mimetype": "text/x-python",
   "name": "python",
   "nbconvert_exporter": "python",
   "pygments_lexer": "ipython3",
   "version": "3.7.3"
  }
 },
 "nbformat": 4,
 "nbformat_minor": 2
}
